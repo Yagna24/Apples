{
 "cells": [
  {
   "cell_type": "code",
   "execution_count": 9,
   "metadata": {},
   "outputs": [
    {
     "name": "stdout",
     "output_type": "stream",
     "text": [
      "red percentage: 5.33\n"
     ]
    }
   ],
   "source": [
    "import numpy as np\n",
    "import cv2\n",
    "\n",
    "img = cv2.imread('C:/Users/Yagna/Desktop/yagnaaa/projects/assignment_apples/red.jpeg')\n",
    "\n",
    "\n",
    "red = np.array([179, 255, 255])\n",
    "diff = 20\n",
    "boundaries = [([red[2]-diff, red[1]-diff, red[0]-diff],\n",
    "               [red[2]+diff, red[1]+diff, red[0]+diff])]\n",
    "hsv = cv2.cvtColor(img, cv2.COLOR_BGR2HSV)\n",
    "\n",
    "\n",
    "\n",
    "\n",
    "for (lower, upper) in boundaries:\n",
    "        lower = np.array([0,50,50])\n",
    "        upper = np.array([10,255,255])\n",
    "        mask = cv2.inRange(hsv, lower, upper)\n",
    "        output = cv2.bitwise_and(img, img, mask=mask)\n",
    "      \n",
    "        ratio_red = cv2.countNonZero(mask)/(img.size/3)\n",
    "        print('red percentage:', np.round(ratio_red*100, 2))\n",
    "        \n",
    "        cv2.imshow(\"images\", np.hstack([img, output]))\n",
    "        cv2.waitKey(0)\n",
    "        res = cv2.bitwise_and(img,img, mask= mask)\n",
    "        cv2.imshow('res',res)\n",
    "        k = cv2.waitKey(5) & 0xFF\n",
    "        if k == 27:\n",
    "            break\n",
    "\n",
    "cv2.destroyAllWindows()"
   ]
  },
  {
   "cell_type": "code",
   "execution_count": null,
   "metadata": {},
   "outputs": [],
   "source": []
  },
  {
   "cell_type": "code",
   "execution_count": null,
   "metadata": {},
   "outputs": [],
   "source": []
  }
 ],
 "metadata": {
  "kernelspec": {
   "display_name": "Python 3",
   "language": "python",
   "name": "python3"
  },
  "language_info": {
   "codemirror_mode": {
    "name": "ipython",
    "version": 3
   },
   "file_extension": ".py",
   "mimetype": "text/x-python",
   "name": "python",
   "nbconvert_exporter": "python",
   "pygments_lexer": "ipython3",
   "version": "3.8.5"
  }
 },
 "nbformat": 4,
 "nbformat_minor": 4
}
